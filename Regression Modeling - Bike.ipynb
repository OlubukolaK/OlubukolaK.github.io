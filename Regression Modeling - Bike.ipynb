{
 "cells": [
  {
   "cell_type": "code",
   "execution_count": null,
   "id": "cd66f593",
   "metadata": {},
   "outputs": [],
   "source": [
    "---\n",
    "<h2 style=\"text-align: center;\">Olubukola K Ogunniyi</h2> \n",
    "<h2 style=\"text-align: center;\">A1: Linear Modeling Case Study</h2>   \n",
    "<h4 style=\"text-align: center;\">Computational Data Analytics with Python - DAT-5390 - FMBAN1</h4>\n",
    "<p style=\"text-align: center;\">Prof Chase Kusterer <br>\n",
    "Hult International Business School</p>\n",
    "---"
   ]
  },
  {
   "cell_type": "markdown",
   "id": "9b7bd8d8",
   "metadata": {},
   "source": [
    "1 Introduction\n",
    "The rapid expansion of the bike-sharing industry, now valued at an estimated $2.8 billion globally as of 2023, underscores its increasing significance in urban mobility and sustainability. Factors fueling this growth include the convenience of accessing bikes, the appeal of an eco-friendly transportation alternative, and the health benefits associated with cycling. In response to this burgeoning demand, the Cook County Planning and Development Department, overseeing the bustling Chicago metropolitan area, seeks to leverage data-driven insights to optimize their bike-sharing services. They have commissioned the development of a sophisticated machine learning model capable of accurately forecasting daily bike rental volumes. This initiative aims not only to enhance operational efficiency but also to unearth key drivers influencing rental patterns, thereby facilitating more informed decision-making and strategic planning in meeting the city's transportation needs."
   ]
  },
  {
   "cell_type": "markdown",
   "id": "05f4a200",
   "metadata": {},
   "source": [
    "1.1 Package and Dataset Imports"
   ]
  },
  {
   "cell_type": "code",
   "execution_count": 117,
   "id": "83ccdf2e",
   "metadata": {
    "scrolled": false
   },
   "outputs": [],
   "source": [
    "## importing libraries ##\n",
    "import pandas as pd  # data science essentials\n",
    "import numpy as np   \n",
    "import warnings \n",
    "warnings.filterwarnings('ignore', category=FutureWarning)\n",
    "import matplotlib.pyplot as plt  # basic data visualization\n",
    "import seaborn as sns            # enhanced data visualization\n",
    "import statsmodels.formula.api as smf  # statistical models including linear regression\n",
    "import sklearn.linear_model  # contains linear modeling algorithms\n",
    "from sklearn.model_selection import train_test_split  # splitting data into train and test sets\n",
    "from sklearn.model_selection import GridSearchCV  # hyperparameter optimization\n",
    "from sklearn.preprocessing import StandardScaler, OneHotEncoder  # feature scaling and encoding categorical variables\n",
    "from sklearn.impute import SimpleImputer  # handling missing values\n",
    "from sklearn.linear_model import LinearRegression, Lasso, Ridge, ElasticNet  # various linear models\n",
    "from sklearn.neighbors import KNeighborsRegressor #  KNeighbors for regression\n",
    "from sklearn.tree import DecisionTreeRegressor  # decision tree for regression\n",
    "from sklearn.ensemble import RandomForestClassifier  # random forest for classification\n",
    "from sklearn.metrics import mean_squared_error, r2_score  # metrics for regression model evaluation\n",
    "from math import sqrt  # additional math functions, used here for square root calculation\n",
    "from sklearn.model_selection import RandomizedSearchCV\n",
    "\n",
    "# setting pandas print options (optional)\n",
    "pd.set_option('display.max_rows', 500)\n",
    "pd.set_option('display.max_columns', 500)\n",
    "pd.set_option('display.width', 1000)\n",
    "\n",
    "## importing data ##\n",
    "\n",
    "# reading modeling data into Python\n",
    "modeling_data = \"C:\\\\Users\\\\lones\\\\Downloads\\\\Kaggle Files (Updated) (3)\\\\Kaggle Files (Updated)\\\\datasets\\\\train.xlsx\"\n",
    "\n",
    "# calling this df_train\n",
    "df_train = pd.read_excel(io         = modeling_data,\n",
    "                         sheet_name = 'data',\n",
    "                         header     = 0,\n",
    "                         index_col  = 'ID')\n",
    "\n",
    "\n",
    "\n",
    "# reading testing data into Python\n",
    "testing_data = \"C:\\\\Users\\\\lones\\\\Downloads\\\\Kaggle Files (Updated) (3)\\\\Kaggle Files (Updated)\\\\datasets\\\\test.xlsx\"\n",
    "\n",
    "\n",
    "# calling this df_test\n",
    "df_test = pd.read_excel(io         = testing_data,\n",
    "                        sheet_name = 'data',\n",
    "                        header     = 0,\n",
    "                        index_col  = 'ID')"
   ]
  },
  {
   "cell_type": "markdown",
   "id": "9ab595ba",
   "metadata": {},
   "source": [
    "Concatenating datasets to combining the datasets to create a single dataset."
   ]
  },
  {
   "cell_type": "code",
   "execution_count": 118,
   "id": "5e1dd83e",
   "metadata": {},
   "outputs": [
    {
     "data": {
      "text/html": [
       "<div>\n",
       "<style scoped>\n",
       "    .dataframe tbody tr th:only-of-type {\n",
       "        vertical-align: middle;\n",
       "    }\n",
       "\n",
       "    .dataframe tbody tr th {\n",
       "        vertical-align: top;\n",
       "    }\n",
       "\n",
       "    .dataframe thead th {\n",
       "        text-align: right;\n",
       "    }\n",
       "</style>\n",
       "<table border=\"1\" class=\"dataframe\">\n",
       "  <thead>\n",
       "    <tr style=\"text-align: right;\">\n",
       "      <th></th>\n",
       "      <th>DateHour</th>\n",
       "      <th>Temperature(F)</th>\n",
       "      <th>Humidity(%)</th>\n",
       "      <th>Wind speed (mph)</th>\n",
       "      <th>Visibility(miles)</th>\n",
       "      <th>DewPointTemperature(F)</th>\n",
       "      <th>Rainfall(in)</th>\n",
       "      <th>Snowfall(in)</th>\n",
       "      <th>SolarRadiation(MJ/m2)</th>\n",
       "      <th>Holiday</th>\n",
       "      <th>FunctioningDay</th>\n",
       "      <th>RENTALS</th>\n",
       "      <th>set</th>\n",
       "    </tr>\n",
       "    <tr>\n",
       "      <th>ID</th>\n",
       "      <th></th>\n",
       "      <th></th>\n",
       "      <th></th>\n",
       "      <th></th>\n",
       "      <th></th>\n",
       "      <th></th>\n",
       "      <th></th>\n",
       "      <th></th>\n",
       "      <th></th>\n",
       "      <th></th>\n",
       "      <th></th>\n",
       "      <th></th>\n",
       "      <th></th>\n",
       "    </tr>\n",
       "  </thead>\n",
       "  <tbody>\n",
       "    <tr>\n",
       "      <th>mb_1039</th>\n",
       "      <td>2023-10-14 05:59:54.810000</td>\n",
       "      <td>52</td>\n",
       "      <td>81</td>\n",
       "      <td>0.4</td>\n",
       "      <td>2.9</td>\n",
       "      <td>46.4</td>\n",
       "      <td>0.0</td>\n",
       "      <td>0.0</td>\n",
       "      <td>0.00</td>\n",
       "      <td>No</td>\n",
       "      <td>Yes</td>\n",
       "      <td>519.0</td>\n",
       "      <td>Not Kaggle</td>\n",
       "    </tr>\n",
       "    <tr>\n",
       "      <th>mb_1330</th>\n",
       "      <td>2023-10-26 08:59:53.355000</td>\n",
       "      <td>51</td>\n",
       "      <td>53</td>\n",
       "      <td>2.2</td>\n",
       "      <td>NaN</td>\n",
       "      <td>35.2</td>\n",
       "      <td>0.0</td>\n",
       "      <td>0.0</td>\n",
       "      <td>1.01</td>\n",
       "      <td>No</td>\n",
       "      <td>Yes</td>\n",
       "      <td>1251.0</td>\n",
       "      <td>Not Kaggle</td>\n",
       "    </tr>\n",
       "    <tr>\n",
       "      <th>mb_551</th>\n",
       "      <td>2023-09-23 21:59:57.250000</td>\n",
       "      <td>56</td>\n",
       "      <td>49</td>\n",
       "      <td>2.5</td>\n",
       "      <td>3.4</td>\n",
       "      <td>38.8</td>\n",
       "      <td>0.0</td>\n",
       "      <td>0.0</td>\n",
       "      <td>0.00</td>\n",
       "      <td>No</td>\n",
       "      <td>Yes</td>\n",
       "      <td>1685.0</td>\n",
       "      <td>Not Kaggle</td>\n",
       "    </tr>\n",
       "    <tr>\n",
       "      <th>mb_2103</th>\n",
       "      <td>2023-12-19 14:00:00</td>\n",
       "      <td>69</td>\n",
       "      <td>32</td>\n",
       "      <td>9.8</td>\n",
       "      <td>12.4</td>\n",
       "      <td>38.7</td>\n",
       "      <td>0.0</td>\n",
       "      <td>0.0</td>\n",
       "      <td>2.36</td>\n",
       "      <td>No</td>\n",
       "      <td>No</td>\n",
       "      <td>0.0</td>\n",
       "      <td>Not Kaggle</td>\n",
       "    </tr>\n",
       "    <tr>\n",
       "      <th>mb_1430</th>\n",
       "      <td>2023-10-30 12:59:52.855000</td>\n",
       "      <td>53</td>\n",
       "      <td>20</td>\n",
       "      <td>2.9</td>\n",
       "      <td>10.8</td>\n",
       "      <td>12.9</td>\n",
       "      <td>0.0</td>\n",
       "      <td>0.0</td>\n",
       "      <td>1.96</td>\n",
       "      <td>No</td>\n",
       "      <td>Yes</td>\n",
       "      <td>814.0</td>\n",
       "      <td>Not Kaggle</td>\n",
       "    </tr>\n",
       "  </tbody>\n",
       "</table>\n",
       "</div>"
      ],
      "text/plain": [
       "                           DateHour  Temperature(F)  Humidity(%)  Wind speed (mph)  Visibility(miles)  DewPointTemperature(F)  Rainfall(in)  Snowfall(in)  SolarRadiation(MJ/m2) Holiday FunctioningDay  RENTALS         set\n",
       "ID                                                                                                                                                                                                                          \n",
       "mb_1039  2023-10-14 05:59:54.810000              52           81               0.4                2.9                    46.4           0.0           0.0                   0.00      No            Yes    519.0  Not Kaggle\n",
       "mb_1330  2023-10-26 08:59:53.355000              51           53               2.2                NaN                    35.2           0.0           0.0                   1.01      No            Yes   1251.0  Not Kaggle\n",
       "mb_551   2023-09-23 21:59:57.250000              56           49               2.5                3.4                    38.8           0.0           0.0                   0.00      No            Yes   1685.0  Not Kaggle\n",
       "mb_2103         2023-12-19 14:00:00              69           32               9.8               12.4                    38.7           0.0           0.0                   2.36      No             No      0.0  Not Kaggle\n",
       "mb_1430  2023-10-30 12:59:52.855000              53           20               2.9               10.8                    12.9           0.0           0.0                   1.96      No            Yes    814.0  Not Kaggle"
      ]
     },
     "execution_count": 118,
     "metadata": {},
     "output_type": "execute_result"
    }
   ],
   "source": [
    "# concatenating datasets together for mv analysis and feature engineering\n",
    "df_train['set'] = 'Not Kaggle'\n",
    "df_test ['set'] = 'Kaggle'\n",
    "\n",
    "# concatenating both datasets together for mv and feature engineering\n",
    "df_full = pd.concat(objs = [df_train, df_test],\n",
    "                    axis = 0,\n",
    "                    ignore_index = False)\n",
    "\n",
    "\n",
    "# checking data\n",
    "df_full.head(n = 5)"
   ]
  },
  {
   "cell_type": "code",
   "execution_count": 66,
   "id": "ecbf6ee3",
   "metadata": {},
   "outputs": [
    {
     "data": {
      "text/plain": [
       "Index(['DateHour', 'Temperature(F)', 'Humidity(%)', 'Wind speed (mph)', 'Visibility(miles)', 'DewPointTemperature(F)', 'Rainfall(in)', 'Snowfall(in)', 'SolarRadiation(MJ/m2)', 'Holiday', 'FunctioningDay', 'RENTALS', 'set'], dtype='object')"
      ]
     },
     "execution_count": 66,
     "metadata": {},
     "output_type": "execute_result"
    }
   ],
   "source": [
    "# checking available features\n",
    "df_full.columns"
   ]
  },
  {
   "cell_type": "code",
   "execution_count": 67,
   "id": "4eb4e48a",
   "metadata": {},
   "outputs": [],
   "source": [
    "#Encode the 'Holiday' and 'FunctioningDay' as numeric using a binary encoding\n",
    "df_full['Holiday'] = df_full['Holiday'].map({'No': 0, 'Yes': 1})\n",
    "df_full['FunctioningDay'] = df_full['FunctioningDay'].map({'No': 0, 'Yes': 1})"
   ]
  },
  {
   "cell_type": "code",
   "execution_count": 68,
   "id": "1f44d254",
   "metadata": {},
   "outputs": [],
   "source": [
    "# Setting the response variable as string\n",
    "y_variable = 'RENTALS' "
   ]
  },
  {
   "cell_type": "markdown",
   "id": "4d22205b",
   "metadata": {},
   "source": [
    "Missing Value Analysis and Imputation"
   ]
  },
  {
   "cell_type": "code",
   "execution_count": 69,
   "id": "c0f8a23e",
   "metadata": {},
   "outputs": [
    {
     "data": {
      "text/plain": [
       "DateHour                    0\n",
       "Temperature(F)              0\n",
       "Humidity(%)                 0\n",
       "Wind speed (mph)            0\n",
       "Visibility(miles)          76\n",
       "DewPointTemperature(F)     67\n",
       "Rainfall(in)                0\n",
       "Snowfall(in)                0\n",
       "SolarRadiation(MJ/m2)     106\n",
       "Holiday                     0\n",
       "FunctioningDay              0\n",
       "RENTALS                   546\n",
       "set                         0\n",
       "dtype: int64"
      ]
     },
     "execution_count": 69,
     "metadata": {},
     "output_type": "execute_result"
    }
   ],
   "source": [
    "# Checking for missing values\n",
    "df_full.isnull().sum()"
   ]
  },
  {
   "cell_type": "code",
   "execution_count": 70,
   "id": "270f47f8",
   "metadata": {},
   "outputs": [],
   "source": [
    "# Mean imputation to handle missing values in dataset \n",
    "df_full['Visibility(miles)'].fillna(df_full['Visibility(miles)'].mean(), inplace=True)\n",
    "df_full['DewPointTemperature(F)'].fillna(df_full['DewPointTemperature(F)'].mean(), inplace=True)\n",
    "df_full['SolarRadiation(MJ/m2)'].fillna(df_full['SolarRadiation(MJ/m2)'].mean(), inplace=True)\n",
    "df_full['RENTALS'].fillna(df_full['RENTALS'].mean(), inplace=True)"
   ]
  },
  {
   "cell_type": "code",
   "execution_count": 71,
   "id": "5eb97938",
   "metadata": {},
   "outputs": [
    {
     "data": {
      "text/plain": [
       "DateHour                  0\n",
       "Temperature(F)            0\n",
       "Humidity(%)               0\n",
       "Wind speed (mph)          0\n",
       "Visibility(miles)         0\n",
       "DewPointTemperature(F)    0\n",
       "Rainfall(in)              0\n",
       "Snowfall(in)              0\n",
       "SolarRadiation(MJ/m2)     0\n",
       "Holiday                   0\n",
       "FunctioningDay            0\n",
       "RENTALS                   0\n",
       "set                       0\n",
       "dtype: int64"
      ]
     },
     "execution_count": 71,
     "metadata": {},
     "output_type": "execute_result"
    }
   ],
   "source": [
    "# Checking for missing values again\n",
    "df_full.isnull().sum()"
   ]
  },
  {
   "cell_type": "markdown",
   "id": "7ac85f76",
   "metadata": {},
   "source": [
    "### 2.2 Summary Statistics"
   ]
  },
  {
   "cell_type": "code",
   "execution_count": 72,
   "id": "03b2e7a4",
   "metadata": {
    "scrolled": true
   },
   "outputs": [
    {
     "data": {
      "text/html": [
       "<div>\n",
       "<style scoped>\n",
       "    .dataframe tbody tr th:only-of-type {\n",
       "        vertical-align: middle;\n",
       "    }\n",
       "\n",
       "    .dataframe tbody tr th {\n",
       "        vertical-align: top;\n",
       "    }\n",
       "\n",
       "    .dataframe thead th {\n",
       "        text-align: right;\n",
       "    }\n",
       "</style>\n",
       "<table border=\"1\" class=\"dataframe\">\n",
       "  <thead>\n",
       "    <tr style=\"text-align: right;\">\n",
       "      <th></th>\n",
       "      <th>Temperature(F)</th>\n",
       "      <th>Humidity(%)</th>\n",
       "      <th>Wind speed (mph)</th>\n",
       "      <th>Visibility(miles)</th>\n",
       "      <th>DewPointTemperature(F)</th>\n",
       "      <th>Rainfall(in)</th>\n",
       "      <th>Snowfall(in)</th>\n",
       "      <th>SolarRadiation(MJ/m2)</th>\n",
       "      <th>Holiday</th>\n",
       "      <th>FunctioningDay</th>\n",
       "      <th>RENTALS</th>\n",
       "    </tr>\n",
       "  </thead>\n",
       "  <tbody>\n",
       "    <tr>\n",
       "      <th>count</th>\n",
       "      <td>2184.000000</td>\n",
       "      <td>2184.000000</td>\n",
       "      <td>2184.000000</td>\n",
       "      <td>2184.000000</td>\n",
       "      <td>2184.000000</td>\n",
       "      <td>2184.000000</td>\n",
       "      <td>2184.000000</td>\n",
       "      <td>2184.000000</td>\n",
       "      <td>2184.000000</td>\n",
       "      <td>2184.000000</td>\n",
       "      <td>2184.000000</td>\n",
       "    </tr>\n",
       "    <tr>\n",
       "      <th>mean</th>\n",
       "      <td>57.389652</td>\n",
       "      <td>59.228480</td>\n",
       "      <td>3.344780</td>\n",
       "      <td>9.646964</td>\n",
       "      <td>42.036089</td>\n",
       "      <td>0.004858</td>\n",
       "      <td>0.002015</td>\n",
       "      <td>0.547161</td>\n",
       "      <td>0.054945</td>\n",
       "      <td>0.886905</td>\n",
       "      <td>828.153846</td>\n",
       "    </tr>\n",
       "    <tr>\n",
       "      <th>std</th>\n",
       "      <td>12.861669</td>\n",
       "      <td>18.686445</td>\n",
       "      <td>2.071144</td>\n",
       "      <td>3.431081</td>\n",
       "      <td>13.781186</td>\n",
       "      <td>0.037354</td>\n",
       "      <td>0.018550</td>\n",
       "      <td>0.790639</td>\n",
       "      <td>0.227925</td>\n",
       "      <td>0.316782</td>\n",
       "      <td>569.454691</td>\n",
       "    </tr>\n",
       "    <tr>\n",
       "      <th>min</th>\n",
       "      <td>26.000000</td>\n",
       "      <td>13.000000</td>\n",
       "      <td>0.000000</td>\n",
       "      <td>0.000000</td>\n",
       "      <td>-2.200000</td>\n",
       "      <td>0.000000</td>\n",
       "      <td>0.000000</td>\n",
       "      <td>0.000000</td>\n",
       "      <td>0.000000</td>\n",
       "      <td>0.000000</td>\n",
       "      <td>0.000000</td>\n",
       "    </tr>\n",
       "    <tr>\n",
       "      <th>25%</th>\n",
       "      <td>48.000000</td>\n",
       "      <td>44.000000</td>\n",
       "      <td>1.800000</td>\n",
       "      <td>7.600000</td>\n",
       "      <td>33.600000</td>\n",
       "      <td>0.000000</td>\n",
       "      <td>0.000000</td>\n",
       "      <td>0.000000</td>\n",
       "      <td>0.000000</td>\n",
       "      <td>1.000000</td>\n",
       "      <td>441.750000</td>\n",
       "    </tr>\n",
       "    <tr>\n",
       "      <th>50%</th>\n",
       "      <td>57.000000</td>\n",
       "      <td>59.000000</td>\n",
       "      <td>2.900000</td>\n",
       "      <td>11.400000</td>\n",
       "      <td>42.036089</td>\n",
       "      <td>0.000000</td>\n",
       "      <td>0.000000</td>\n",
       "      <td>0.030000</td>\n",
       "      <td>0.000000</td>\n",
       "      <td>1.000000</td>\n",
       "      <td>828.153846</td>\n",
       "    </tr>\n",
       "    <tr>\n",
       "      <th>75%</th>\n",
       "      <td>68.000000</td>\n",
       "      <td>74.000000</td>\n",
       "      <td>4.500000</td>\n",
       "      <td>12.400000</td>\n",
       "      <td>51.100000</td>\n",
       "      <td>0.000000</td>\n",
       "      <td>0.000000</td>\n",
       "      <td>0.900000</td>\n",
       "      <td>0.000000</td>\n",
       "      <td>1.000000</td>\n",
       "      <td>1043.500000</td>\n",
       "    </tr>\n",
       "    <tr>\n",
       "      <th>max</th>\n",
       "      <td>91.000000</td>\n",
       "      <td>97.000000</td>\n",
       "      <td>12.800000</td>\n",
       "      <td>12.400000</td>\n",
       "      <td>75.000000</td>\n",
       "      <td>0.710000</td>\n",
       "      <td>0.300000</td>\n",
       "      <td>3.180000</td>\n",
       "      <td>1.000000</td>\n",
       "      <td>1.000000</td>\n",
       "      <td>3303.000000</td>\n",
       "    </tr>\n",
       "  </tbody>\n",
       "</table>\n",
       "</div>"
      ],
      "text/plain": [
       "       Temperature(F)  Humidity(%)  Wind speed (mph)  Visibility(miles)  DewPointTemperature(F)  Rainfall(in)  Snowfall(in)  SolarRadiation(MJ/m2)      Holiday  FunctioningDay      RENTALS\n",
       "count     2184.000000  2184.000000       2184.000000        2184.000000             2184.000000   2184.000000   2184.000000            2184.000000  2184.000000     2184.000000  2184.000000\n",
       "mean        57.389652    59.228480          3.344780           9.646964               42.036089      0.004858      0.002015               0.547161     0.054945        0.886905   828.153846\n",
       "std         12.861669    18.686445          2.071144           3.431081               13.781186      0.037354      0.018550               0.790639     0.227925        0.316782   569.454691\n",
       "min         26.000000    13.000000          0.000000           0.000000               -2.200000      0.000000      0.000000               0.000000     0.000000        0.000000     0.000000\n",
       "25%         48.000000    44.000000          1.800000           7.600000               33.600000      0.000000      0.000000               0.000000     0.000000        1.000000   441.750000\n",
       "50%         57.000000    59.000000          2.900000          11.400000               42.036089      0.000000      0.000000               0.030000     0.000000        1.000000   828.153846\n",
       "75%         68.000000    74.000000          4.500000          12.400000               51.100000      0.000000      0.000000               0.900000     0.000000        1.000000  1043.500000\n",
       "max         91.000000    97.000000         12.800000          12.400000               75.000000      0.710000      0.300000               3.180000     1.000000        1.000000  3303.000000"
      ]
     },
     "execution_count": 72,
     "metadata": {},
     "output_type": "execute_result"
    }
   ],
   "source": [
    "# Summary statistics for numerical variables\n",
    "sns.set(style=\"whitegrid\")  # Setting visualization style\n",
    "df_full.describe()"
   ]
  },
  {
   "cell_type": "markdown",
   "id": "840935fe",
   "metadata": {},
   "source": [
    "2.4 Data Visualization \n",
    "Histogram: Right positive skewdness noticed for Rentals. This means, in the distribution, the mean and median is greater than the mode, and the bulk of the data points lie to the left of the histogram, with fewer large values to the right.\n",
    "\n",
    "Box Plot for the effect of holidays on Rental \n",
    "Median Rental Counts: The median number of rentals (indicated by the line inside the box) on non-holidays appears to be lower than on holidays. This suggests that, typically, there are more rentals on holidays.\n",
    "\n",
    "Interquartile Range (IQR): The IQR, which is the height of the box, represents the middle 50% of the data. It seems slightly wider for holidays compared to non-holidays, indicating more variability in the number of rentals on holidays.\n",
    "\n",
    "Outliers: The plot shows several outliers for both non-holidays and holidays (indicated by the dots above the whiskers). There are particularly high rental counts on non-holiday days that are well above the rest of the data, suggesting occasional spikes in rentals when it's not a holiday.\n",
    "\n",
    "Scatter plot to explore relationship between temperature (in Fahrenheit) and the number of bike rentals. \n",
    "Positive Correlation: There seems to be a positive correlation between temperature and bike rentals. As the temperature increases, the number of rentals also tends to increase, which is logical considering that warmer weather is more conducive to outdoor activities like biking.\n",
    "\n",
    "Data Spread: The data points are more densely packed at moderate temperatures, suggesting that there's a range of temperatures where bike rentals are most common. It appears that as the temperature moves towards the extremes (especially colder), the number of rentals decreases.\n",
    "\n",
    "Outliers: There are a few instances with high rental counts at moderate temperatures, indicating days with particularly high demand. These could be outliers or could represent specific days with events or other factors that drive up rentals.\n",
    "\n",
    "Decreased Rentals in Higher Temperature Range: Towards the higher end of the temperature range, there seems to be a slight decrease in the number of rentals. This could suggest that extremely high temperatures may deter people from renting bikes due to discomfort or health concerns."
   ]
  },
  {
   "cell_type": "code",
   "execution_count": 80,
   "id": "cbb285f2",
   "metadata": {
    "scrolled": true
   },
   "outputs": [
    {
     "data": {
      "image/png": "[encoded data removed]",
      "text/plain": [
       "<Figure size 640x480 with 1 Axes>"
      ]
     },
     "metadata": {},
     "output_type": "display_data"
    }
   ],
   "source": [
    "# Developing histogram for Rentals\n",
    "sns.histplot(data   = df_full,\n",
    "          x      = \"RENTALS\",\n",
    "          kde    = True) #the curve \n",
    "\n",
    "# title and axis labels\n",
    "plt.title(label   = \"Distribution of bike rentals\")\n",
    "plt.xlabel(xlabel = \"RENTALS\") \n",
    "plt.ylabel(ylabel = \"Count\")\n",
    "\n",
    "# displaying the histogram\n",
    "plt.show()"
   ]
  },
  {
   "cell_type": "code",
   "execution_count": 83,
   "id": "69bb3aa8",
   "metadata": {},
   "outputs": [
    {
     "data": {
      "image/png": "[encoded data removed]",
      "text/plain": [
       "<Figure size 1000x600 with 1 Axes>"
      ]
     },
     "metadata": {},
     "output_type": "display_data"
    }
   ],
   "source": [
    "# Creating a boxplot to compare the number of rentals on holidays vs. non-holidays\n",
    "plt.figure(figsize=(10, 6))  # Set the figure size\n",
    "sns.boxplot(x='Holiday', y='RENTALS', data=df_full)\n",
    "\n",
    "# Adding title and labels\n",
    "plt.title('Bike Rentals on Holidays vs Non-Holidays')\n",
    "plt.xlabel('Holiday')\n",
    "plt.ylabel('Number of Rentals')\n",
    "\n",
    "# Displaying the plot\n",
    "plt.show()"
   ]
  },
  {
   "cell_type": "code",
   "execution_count": 86,
   "id": "5eea2867",
   "metadata": {},
   "outputs": [
    {
     "data": {
      "image/png": "[encoded data removed]",
      "text/plain": [
       "<Figure size 500x300 with 1 Axes>"
      ]
     },
     "metadata": {},
     "output_type": "display_data"
    }
   ],
   "source": [
    "# Creating a scatter plot to explore the relationship between temperature and number of bike rentals\n",
    "plt.figure(figsize=(5, 3))  # Set the figure size\n",
    "sns.scatterplot(x='Temperature(F)', y='RENTALS', data=df_full, color='orange')\n",
    "\n",
    "# Adding title and labels\n",
    "plt.title('Relationship Between Temperature and Bike Rentals')\n",
    "plt.xlabel('Temperature (F)')\n",
    "plt.ylabel('Number of Rentals')\n",
    "\n",
    "# Displaying the plot\n",
    "plt.show()"
   ]
  },
  {
   "cell_type": "code",
   "execution_count": 87,
   "id": "8dde1a6f",
   "metadata": {},
   "outputs": [],
   "source": [
    "# Transformation\n",
    "# log transforming Rentals and saving it to the dataset\n",
    "df_full['log_RENTALS'] = np.log1p(df_full['RENTALS'])"
   ]
  },
  {
   "cell_type": "code",
   "execution_count": null,
   "id": "08aaf39f",
   "metadata": {},
   "outputs": [],
   "source": [
    "Correlation Analysis"
   ]
  },
  {
   "cell_type": "code",
   "execution_count": 88,
   "id": "bba2c51f",
   "metadata": {},
   "outputs": [
    {
     "name": "stdout",
     "output_type": "stream",
     "text": [
      "                        RENTALS  log_RENTALS\n",
      "RENTALS                    1.00         0.72\n",
      "log_RENTALS                0.72         1.00\n",
      "Temperature(F)             0.32         0.02\n",
      "SolarRadiation(MJ/m2)      0.21         0.11\n",
      "Wind speed (mph)           0.19         0.05\n",
      "DewPointTemperature(F)     0.03        -0.13\n",
      "Visibility(miles)          0.00         0.01\n",
      "Snowfall(in)              -0.09        -0.03\n",
      "Rainfall(in)              -0.15        -0.15\n",
      "Humidity(%)               -0.40        -0.24\n"
     ]
    }
   ],
   "source": [
    "## Base Modeling ##\n",
    "# Exclude non-numeric columns from the DataFrame before calculating correlation\n",
    "numeric_df_full = df_full.select_dtypes(include=[np.number])\n",
    "\n",
    "# Calculate Pearson correlation on the numeric-only DataFrame\n",
    "df_corr = numeric_df_full.corr(method='pearson').round(2)\n",
    "\n",
    "# Sort the correlation values of all variables with 'RENTALS' and 'log_RENTALS', descending by 'RENTALS'\n",
    "corr_rentals = df_corr.loc[:, ['RENTALS', 'log_RENTALS']].sort_values(by='RENTALS', ascending=False)\n",
    "\n",
    "# Display the sorted correlation values\n",
    "print(corr_rentals)"
   ]
  },
  {
   "cell_type": "markdown",
   "id": "6b95636f",
   "metadata": {},
   "source": [
    "### 3 Feature Engineering \n",
    "Given the objective to predict bike rentals demand, the following four new features could potentially enhance the model's performance by capturing additional variance or underlying patterns in bike rental behaviour.\n",
    "\n",
    "#### 1. Has_No_Rainfall\n",
    "The day of the week could influence rental patterns. Weekends possibly showing different trends compared to weekdays. Weekends typically exhibit a shift in rental patterns due to the absence of regular commutes and an increase in recreational use. Understanding this distinction helps tailor predictions to the day of the week. Rental durations might also differ, with longer rentals more common on weekends when users have more free time for leisurely rides.\n",
    "\n",
    "#### 2. Has_No_Snowfall\n",
    "Different months of the year have different temperature. Given the temperature data, we can infer the season, which could significantly affect rental patterns due to weather conditions. Seasonal changes directly affect weather conditions, daylight hours, and social behaviour, all of which influence bike rental demand. For example, warmer months might see an increase in rentals due to more favourable biking conditions and outdoor activities, while colder or rainy seasons could deter users. Recognizing seasonal trends helps in forecasting demand fluctuations throughout the year and adjusting supply accordingly.\n",
    "\n",
    "#### 3. Has_Low_SolarRadiation\n",
    "Using temperature, humidity, and solar radiation, we can create a simple categorization of weather conditions, which may influence rental patterns. This is more nuanced and can range from \"Good\" to \"Poor\" based on certain thresholds of these variables. Weather conditions such as temperature, humidity, and precipitation significantly impact people's willingness and ability to rent bikes. For instance, very high or low temperatures may reduce comfort, deterring rentals. Clear, sunny days are likely to encourage more bike rentals, while rainy or snowy conditions could lead to a sharp decrease in demand. By categorizing weather conditions, models can more accurately predict changes in rental patterns due to weather variability."
   ]
  },
  {
   "cell_type": "markdown",
   "id": "54cde8ac",
   "metadata": {},
   "source": [
    "New Feature Engineering"
   ]
  },
  {
   "cell_type": "code",
   "execution_count": 89,
   "id": "1b1dfb9c",
   "metadata": {},
   "outputs": [],
   "source": [
    "## Feature Engineering ##\n",
    "# Placeholder variables\n",
    "df_full['has_No_Rainfall'] = 0\n",
    "df_full['has_No_Snowfall'] = 0\n",
    "df_full['has_Low_SolarRadiation'] = 0\n",
    "\n",
    "# iterating over each row in the DataFrame to\n",
    "# change values in the new feature columns\n",
    "for index, row in df_full.iterrows():\n",
    "\n",
    "    # Rainfall - if there is no rainfall, set 'has_No_Rainfall' to 1\n",
    "    if row['Rainfall(in)'] == 0:\n",
    "        df_full.loc[index, 'has_No_Rainfall'] = 1\n",
    "        \n",
    "    # Snowfall - if there is no snowfall, set 'has_No_Snowfall' to 1\n",
    "    if row['Snowfall(in)'] == 0:\n",
    "        df_full.loc[index, 'has_No_Snowfall'] = 1\n",
    "        \n",
    "    # SolarRadiation - if the solar radiation is low, set 'has_Low_SolarRadiation' to 1\n",
    "    # Assuming 'low' solar radiation is defined as a certain threshold, for example, less than 0.5 MJ/m2\n",
    "    if row['SolarRadiation(MJ/m2)'] < 0.5:\n",
    "        df_full.loc[index, 'has_Low_SolarRadiation'] = 1"
   ]
  },
  {
   "cell_type": "code",
   "execution_count": 90,
   "id": "0b527581",
   "metadata": {
    "scrolled": true
   },
   "outputs": [
    {
     "data": {
      "text/html": [
       "<div>\n",
       "<style scoped>\n",
       "    .dataframe tbody tr th:only-of-type {\n",
       "        vertical-align: middle;\n",
       "    }\n",
       "\n",
       "    .dataframe tbody tr th {\n",
       "        vertical-align: top;\n",
       "    }\n",
       "\n",
       "    .dataframe thead th {\n",
       "        text-align: right;\n",
       "    }\n",
       "</style>\n",
       "<table border=\"1\" class=\"dataframe\">\n",
       "  <thead>\n",
       "    <tr style=\"text-align: right;\">\n",
       "      <th></th>\n",
       "      <th>has_No_Rainfall</th>\n",
       "      <th>has_No_Snowfall</th>\n",
       "      <th>has_Low_SolarRadiation</th>\n",
       "    </tr>\n",
       "  </thead>\n",
       "  <tbody>\n",
       "    <tr>\n",
       "      <th>0</th>\n",
       "      <td>1</td>\n",
       "      <td>1</td>\n",
       "      <td>1</td>\n",
       "    </tr>\n",
       "    <tr>\n",
       "      <th>1</th>\n",
       "      <td>1</td>\n",
       "      <td>1</td>\n",
       "      <td>0</td>\n",
       "    </tr>\n",
       "    <tr>\n",
       "      <th>2</th>\n",
       "      <td>1</td>\n",
       "      <td>1</td>\n",
       "      <td>1</td>\n",
       "    </tr>\n",
       "    <tr>\n",
       "      <th>3</th>\n",
       "      <td>1</td>\n",
       "      <td>1</td>\n",
       "      <td>0</td>\n",
       "    </tr>\n",
       "    <tr>\n",
       "      <th>4</th>\n",
       "      <td>1</td>\n",
       "      <td>1</td>\n",
       "      <td>0</td>\n",
       "    </tr>\n",
       "  </tbody>\n",
       "</table>\n",
       "</div>"
      ],
      "text/plain": [
       "   has_No_Rainfall  has_No_Snowfall  has_Low_SolarRadiation\n",
       "0                1                1                       1\n",
       "1                1                1                       0\n",
       "2                1                1                       1\n",
       "3                1                1                       0\n",
       "4                1                1                       0"
      ]
     },
     "execution_count": 90,
     "metadata": {},
     "output_type": "execute_result"
    }
   ],
   "source": [
    "# checking results\n",
    "bike[  ['has_No_Rainfall', 'has_No_Snowfall', 'has_Low_SolarRadiation']  ].head(n = 5)"
   ]
  },
  {
   "cell_type": "markdown",
   "id": "3ac71ab8",
   "metadata": {},
   "source": [
    "Checking the correlations of the newly-engineered features with RENTALS and log_RENTALS."
   ]
  },
  {
   "cell_type": "code",
   "execution_count": 91,
   "id": "499ddfe1",
   "metadata": {
    "scrolled": true
   },
   "outputs": [
    {
     "name": "stdout",
     "output_type": "stream",
     "text": [
      "                        RENTALS  log_RENTALS\n",
      "has_No_Rainfall            0.21         0.17\n",
      "has_No_Snowfall            0.09         0.02\n",
      "has_Low_SolarRadiation    -0.18        -0.07\n"
     ]
    }
   ],
   "source": [
    "# Exclude non-numeric columns from the DataFrame before calculating correlation\n",
    "numeric_df_full = df_full.select_dtypes(include=[np.number])\n",
    "\n",
    "# Calculate Pearson correlation on the numeric-only DataFrame\n",
    "df_corr = numeric_df_full.corr(method='pearson').round(2)\n",
    "\n",
    "# Focus on the new features and their correlation with 'RENTALS' and 'log_RENTALS'\n",
    "if 'RENTALS' in df_corr.columns and 'log_RENTALS' in df_corr.columns:\n",
    "    # Extract correlations of new features with 'RENTALS' and 'log_RENTALS'\n",
    "    specific_corr = df_corr.loc[['has_No_Rainfall', 'has_No_Snowfall', 'has_Low_SolarRadiation'], ['RENTALS', 'log_RENTALS']]\n",
    "    \n",
    "    # Display the specific correlations\n",
    "    print(specific_corr)\n",
    "else:\n",
    "    print(\"Ensure 'RENTALS' and 'log_RENTALS' are numeric and present in the DataFrame\")"
   ]
  },
  {
   "cell_type": "code",
   "execution_count": null,
   "id": "84ac60a3",
   "metadata": {},
   "outputs": [],
   "source": [
    "Dataset standardization "
   ]
  },
  {
   "cell_type": "code",
   "execution_count": 92,
   "id": "1ba579df",
   "metadata": {},
   "outputs": [],
   "source": [
    "## Standardization ##\n",
    "numeric_df_full = df_full.select_dtypes(include=[np.number])\n",
    "\n",
    "# Initialize the scaler\n",
    "scaler = StandardScaler()\n",
    "\n",
    "# Fit the scaler to the numeric features and transform them\n",
    "scaled_features = scaler.fit_transform(numeric_df_full)\n",
    "\n",
    "# Create a new DataFrame with the scaled features\n",
    "scaled_df_full = pd.DataFrame(scaled_features, columns=numeric_df_full.columns)"
   ]
  },
  {
   "cell_type": "code",
   "execution_count": null,
   "id": "e5d5cc6e",
   "metadata": {},
   "outputs": [],
   "source": [
    "Separating the Kaggle Data"
   ]
  },
  {
   "cell_type": "code",
   "execution_count": 93,
   "id": "a5a4b228",
   "metadata": {},
   "outputs": [],
   "source": [
    "## parsing out testing data (needed for later) ##\n",
    "\n",
    "# dataset for kaggle\n",
    "kaggle_data = df_full[ df_full['set'] == 'Kaggle' ].copy()\n",
    "\n",
    "\n",
    "# dataset for model building\n",
    "df = df_full[ df_full['set'] == 'Not Kaggle' ].copy()\n",
    "\n",
    "\n",
    "# dropping set identifier (kaggle)\n",
    "kaggle_data.drop(labels = 'set',\n",
    "                 axis = 1,\n",
    "                 inplace = True)\n",
    "\n",
    "\n",
    "# dropping set identifier (model building)\n",
    "df.drop(labels = 'set',\n",
    "        axis = 1,\n",
    "        inplace = True)"
   ]
  },
  {
   "cell_type": "code",
   "execution_count": null,
   "id": "5fd62727",
   "metadata": {},
   "outputs": [],
   "source": [
    "Train-Test Split"
   ]
  },
  {
   "cell_type": "code",
   "execution_count": 94,
   "id": "058cd8e3",
   "metadata": {},
   "outputs": [],
   "source": [
    "# Setting x variable as a list \n",
    "x_features = ['Temperature(F)','Humidity(%)','Wind speed (mph)','Visibility(miles)','DewPointTemperature(F)','Rainfall(in)','Snowfall(in)','SolarRadiation(MJ/m2)','Holiday','FunctioningDay','has_No_Rainfall', 'has_No_Snowfall','has_Low_SolarRadiation'] "
   ]
  },
  {
   "cell_type": "code",
   "execution_count": 95,
   "id": "ef3e0352",
   "metadata": {},
   "outputs": [
    {
     "name": "stdout",
     "output_type": "stream",
     "text": [
      "\n",
      "Original Dataset Dimensions\n",
      "---------------------------\n",
      "Observations (Rows): 1638\n",
      "Features  (Columns): 16\n",
      "\n",
      "\n",
      "Training Data (X-side)\n",
      "----------------------\n",
      "Observations (Rows): 1228\n",
      "Features  (Columns): 8\n",
      "\n",
      "\n",
      "Training Data (y-side)\n",
      "----------------------\n",
      "Feature Name:        RENTALS\n",
      "Observations (Rows): 1228\n",
      "\n",
      "\n",
      "Testing Data (X-side)\n",
      "---------------------\n",
      "Observations (Rows): 410\n",
      "Features  (Columns): 8\n",
      "\n",
      "\n",
      "Testing Data (y-side)\n",
      "---------------------\n",
      "Feature Name:        RENTALS\n",
      "Observations (Rows): 410\n"
     ]
    }
   ],
   "source": [
    "# prepping data for train-test split\n",
    "y_data = df[y_variable]\n",
    "\n",
    "\n",
    "# removing non-numeric columns and missing values\n",
    "x_data = df[x_features].copy().select_dtypes(include=[int, float]).dropna(axis = 1)\n",
    "\n",
    "\n",
    "# storing remaining x_features after the step above\n",
    "x_features = list(x_data.columns)\n",
    "\n",
    "\n",
    "# train-test split (to validate the model)\n",
    "x_train, x_test, y_train, y_test = train_test_split(x_data, \n",
    "                                                    y_data, \n",
    "                                                    test_size    = 0.25,\n",
    "                                                    random_state = 702 )\n",
    "\n",
    "\n",
    "# results of train-test split\n",
    "print(f\"\"\"\n",
    "Original Dataset Dimensions\n",
    "---------------------------\n",
    "Observations (Rows): {df.shape[0]}\n",
    "Features  (Columns): {df.shape[1]}\n",
    "\n",
    "\n",
    "Training Data (X-side)\n",
    "----------------------\n",
    "Observations (Rows): {x_train.shape[0]}\n",
    "Features  (Columns): {x_train.shape[1]}\n",
    "\n",
    "\n",
    "Training Data (y-side)\n",
    "----------------------\n",
    "Feature Name:        {y_train.name}\n",
    "Observations (Rows): {y_train.shape[0]}\n",
    "\n",
    "\n",
    "Testing Data (X-side)\n",
    "---------------------\n",
    "Observations (Rows): {x_test.shape[0]}\n",
    "Features  (Columns): {x_test.shape[1]}\n",
    "\n",
    "\n",
    "Testing Data (y-side)\n",
    "---------------------\n",
    "Feature Name:        {y_test.name}\n",
    "Observations (Rows): {y_test.shape[0]}\"\"\")"
   ]
  },
  {
   "cell_type": "markdown",
   "id": "0cf15f8d",
   "metadata": {},
   "source": [
    " Candidate Model Development\n",
    "Candidate model development refers to the process of selecting, training, and evaluating a set of potential machine learning models to identify which model(s) perform best for a specific predictive task. \n",
    "1.\tSelection of Models: Identifying a range of models that are theoretically suitable for the problem at hand, based on the nature of the data and the prediction task. The selected models are OLS Linear Regression, Lasso Regression, Ridge Regression, Elastic Net Regression, K-Nearest Neighbors (KNN), and Decision Tree Regressor. Each model is suited for regression tasks with different regularization techniques (Lasso, Ridge, Elastic Net) to prevent overfitting, and varying approaches to capture the data's underlying patterns (KNN and Decision Trees).\n",
    "2.\tTraining: Fitting each selected model to a portion of the data (the training set) to learn the relationship between features and the target variable.\n",
    "3.\tEvaluation: Assessing each model's performance using a separate portion of the data (the test set) and specific metrics (like RMSE and R2) to gauge how well the model predicts the target variable.\n",
    "4.\tComparison: Comparing the performance metrics across all candidate models to determine which model(s) offer the best predictive accuracy and generalization capability.\n",
    "In conclusion, the Decision Tree Regressor's superior performance is attributed to its lower RMSE and higher R2 values, indicating greater accuracy and a better fit to the bike rental data compared to the other models. Its inherent flexibility and capacity to model complex relationships without stringent data preprocessing requirements further underscore its suitability for this prediction task."
   ]
  },
  {
   "cell_type": "markdown",
   "id": "49bb14ff",
   "metadata": {},
   "source": [
    "Developing candidate models "
   ]
  },
  {
   "cell_type": "code",
   "execution_count": 105,
   "id": "85809477",
   "metadata": {},
   "outputs": [],
   "source": [
    "## Candidate Modeling ##\n",
    "\n",
    "# Naming the model\n",
    "model_name = 'Lasso Regression'\n",
    "\n",
    "# Initialize your model\n",
    "model = Lasso()"
   ]
  },
  {
   "cell_type": "code",
   "execution_count": 103,
   "id": "b09c816c",
   "metadata": {},
   "outputs": [],
   "source": [
    "# Naming the model\n",
    "model_name = 'Ridge Regression'\n",
    "\n",
    "# Initialize your model\n",
    "model = Ridge()"
   ]
  },
  {
   "cell_type": "code",
   "execution_count": 101,
   "id": "ecb584f1",
   "metadata": {},
   "outputs": [],
   "source": [
    "# Naming the model\n",
    "model_name = 'K-Nearest Neighbors'\n",
    "\n",
    "# Initialize your model\n",
    "model = KNeighborsRegressor()"
   ]
  },
  {
   "cell_type": "code",
   "execution_count": 99,
   "id": "fc4c1aeb",
   "metadata": {},
   "outputs": [],
   "source": [
    "# Naming the model\n",
    "model_name = 'Decision Tree Regressor'\n",
    "\n",
    "# Initialize your model\n",
    "model = DecisionTreeRegressor()"
   ]
  },
  {
   "cell_type": "code",
   "execution_count": 106,
   "id": "bef01714",
   "metadata": {},
   "outputs": [
    {
     "name": "stdout",
     "output_type": "stream",
     "text": [
      "Model Name:     Lasso Regression\n",
      "Train_Score:    0.2533\n",
      "Test_Score:     0.258\n",
      "Train-Test Gap: 0.0047\n",
      "\n"
     ]
    }
   ],
   "source": [
    "# FITTING to the training data\n",
    "model_fit = model.fit(x_train, y_train)\n",
    "\n",
    "\n",
    "# PREDICTING on new data\n",
    "model_pred = model.predict(x_test)\n",
    "\n",
    "\n",
    "# SCORING the results\n",
    "model_train_score = model.score(x_train, y_train).round(4)\n",
    "model_test_score  = model.score(x_test, y_test).round(4)\n",
    "model_gap         = abs(model_train_score - model_test_score).round(4)\n",
    "    \n",
    "\n",
    "# dynamically printing results\n",
    "model_summary =  f\"\"\"\\\n",
    "Model Name:     {model_name}\n",
    "Train_Score:    {model_train_score}\n",
    "Test_Score:     {model_test_score}\n",
    "Train-Test Gap: {model_gap}\n",
    "\"\"\"\n",
    "\n",
    "print(model_summary)"
   ]
  },
  {
   "cell_type": "code",
   "execution_count": null,
   "id": "8c513aa7",
   "metadata": {},
   "outputs": [],
   "source": [
    "Model Results"
   ]
  },
  {
   "cell_type": "code",
   "execution_count": null,
   "id": "6033b1b4",
   "metadata": {},
   "outputs": [],
   "source": [
    "## Model Results ##\n",
    "Model Name:     'Lasso Regression'\n",
    "Train_Score:    0.2533\n",
    "Test_Score:     0.258\n",
    "Train-Test Gap: 0.0047\n",
    "\n",
    "Model Name:     'Ridge Regression'\n",
    "Train_Score:    0.2536\n",
    "Test_Score:     0.2591\n",
    "Train-Test Gap: 0.0055\n",
    "    \n",
    "Model Name:     'K-Nearest Neighbors'\n",
    "Train_Score:    0.4462\n",
    "Test_Score:     0.195\n",
    "Train-Test Gap: 0.2512\n",
    "    \n",
    "Model Name:     'Decision Tree Regressor'\n",
    "Train_Score:    0.999\n",
    "Test_Score:     -0.2405\n",
    "Train-Test Gap: 1.2395"
   ]
  },
  {
   "cell_type": "markdown",
   "id": "06f447ec",
   "metadata": {},
   "source": [
    "Analysis of model results\n",
    "Lasso Regression\n",
    "Underfitting: The low R^2 scores for both training and testing imply that the model may be underfitting the data. Underfitting occurs when the model is too simple to capture the underlying patterns in the data.\n",
    "Generalization: Despite the low R^2 scores, the model is generalizing well from the training data to the test data, as evidenced by the very small train-test gap.\n",
    "Complexity and Features: Lasso Regression includes a penalty term that can shrink coefficients of less important features to zero, effectively performing feature selection. If the R^2 score is low, it could be that the model is too simple, the penalty term is too strong, or important features are missing or not captured properly.\n",
    "\n",
    "Ridge Regression\n",
    "Performance: The Ridge Regression model's performance is marginally better than the Lasso Regression model in terms of both training and testing scores. This indicates that the regularization technique used by Ridge (L2 regularization) may be more suitable for this dataset than the Lasso's L1 regularization.\n",
    "Underfitting: Despite the good generalization, the low R^2 scores for both training and testing suggest that the model may be underfitting, meaning it is too simple to capture the complexity of the data.\n",
    "\n",
    "K-Nearest Neighbors\n",
    "Overfitting: The large train-test gap is a clear sign of overfitting. KNN is sensitive to the local structure of the training data, and without the right value for k (the number of nearest neighbors), it can adapt too closely to the training data, capturing noise that does not generalize.\n",
    "Model Complexity: In KNN, a smaller value of k means that noise will influence the outcome more, while a larger k provides smoothing that reduces overfitting. The current results suggest that the k value may be too low.\n",
    "Distance Metric and Scaling: KNN is also sensitive to the distance metric used and the scale of the data. If the features are not on the same scale, it can disproportionately influence the KNN algorithm's outcome. Ensuring that the data is properly scaled can be crucial for KNN performance.\n",
    "\n",
    "Decision Tree Regressor\n",
    "Overfitting Problem: The decision tree model has learned the training data's noise and details, which do not generalize to the test data. This is evidenced by the extremely high training score and the very poor testing score.\n",
    "Model Complexity: Decision trees are prone to creating overly complex trees that do not generalize well. The tree may have grown too deep, creating leaves that represent outliers or noise in the training data."
   ]
  },
  {
   "cell_type": "code",
   "execution_count": null,
   "id": "62d214c3",
   "metadata": {},
   "outputs": [],
   "source": [
    "Residual Analysis"
   ]
  },
  {
   "cell_type": "code",
   "execution_count": 107,
   "id": "e509d1e7",
   "metadata": {},
   "outputs": [
    {
     "data": {
      "text/html": [
       "<div>\n",
       "<style scoped>\n",
       "    .dataframe tbody tr th:only-of-type {\n",
       "        vertical-align: middle;\n",
       "    }\n",
       "\n",
       "    .dataframe tbody tr th {\n",
       "        vertical-align: top;\n",
       "    }\n",
       "\n",
       "    .dataframe thead th {\n",
       "        text-align: right;\n",
       "    }\n",
       "</style>\n",
       "<table border=\"1\" class=\"dataframe\">\n",
       "  <thead>\n",
       "    <tr style=\"text-align: right;\">\n",
       "      <th></th>\n",
       "      <th>True</th>\n",
       "      <th>Predicted</th>\n",
       "    </tr>\n",
       "    <tr>\n",
       "      <th>ID</th>\n",
       "      <th></th>\n",
       "      <th></th>\n",
       "    </tr>\n",
       "  </thead>\n",
       "  <tbody>\n",
       "    <tr>\n",
       "      <th>mb_1509</th>\n",
       "      <td>908.0</td>\n",
       "      <td>822.416761</td>\n",
       "    </tr>\n",
       "    <tr>\n",
       "      <th>mb_559</th>\n",
       "      <td>131.0</td>\n",
       "      <td>91.372718</td>\n",
       "    </tr>\n",
       "    <tr>\n",
       "      <th>mb_040</th>\n",
       "      <td>1208.0</td>\n",
       "      <td>1213.910785</td>\n",
       "    </tr>\n",
       "    <tr>\n",
       "      <th>mb_1346</th>\n",
       "      <td>291.0</td>\n",
       "      <td>624.945138</td>\n",
       "    </tr>\n",
       "    <tr>\n",
       "      <th>mb_1463</th>\n",
       "      <td>1433.0</td>\n",
       "      <td>731.992445</td>\n",
       "    </tr>\n",
       "  </tbody>\n",
       "</table>\n",
       "</div>"
      ],
      "text/plain": [
       "           True    Predicted\n",
       "ID                          \n",
       "mb_1509   908.0   822.416761\n",
       "mb_559    131.0    91.372718\n",
       "mb_040   1208.0  1213.910785\n",
       "mb_1346   291.0   624.945138\n",
       "mb_1463  1433.0   731.992445"
      ]
     },
     "execution_count": 107,
     "metadata": {},
     "output_type": "execute_result"
    }
   ],
   "source": [
    "## Residual Analysis ##\n",
    "\n",
    "# organizing residuals\n",
    "model_residuals = {\"True\"            : y_test,\n",
    "                   \"Predicted\"       : model_pred\n",
    "                  }\n",
    "\n",
    "\n",
    "# converting residuals into df\n",
    "model_resid_df = pd.DataFrame(data = model_residuals)\n",
    "\n",
    "\n",
    "# checking results\n",
    "model_resid_df.head(n = 5)"
   ]
  },
  {
   "cell_type": "code",
   "execution_count": null,
   "id": "cb3c9365",
   "metadata": {},
   "outputs": [],
   "source": [
    "Hyperparameter Tuning"
   ]
  },
  {
   "cell_type": "code",
   "execution_count": 108,
   "id": "1ed7b7e9",
   "metadata": {},
   "outputs": [
    {
     "name": "stdout",
     "output_type": "stream",
     "text": [
      "Tuned Parameters  : {'splitter': 'best', 'min_samples_leaf': 25, 'max_depth': 5, 'criterion': 'squared_error'}\n",
      "Tuned Training AUC: 0.27344\n"
     ]
    }
   ],
   "source": [
    "# regression trees\n",
    "from sklearn.tree import plot_tree                     # tree plots\n",
    "from sklearn.model_selection import RandomizedSearchCV # hyperparameter tuning\n",
    "import warnings \n",
    "\n",
    "# Adjusting the hyperparameter ranges\n",
    "criterion_range = [\"squared_error\", \"friedman_mse\", \"absolute_error\"]\n",
    "splitter_range  = [\"best\", \"random\"]\n",
    "depth_range     = np.arange(3, 20, 2)  # Expanded and refined range\n",
    "leaf_range      = np.arange(10, 50, 5)  # More focused range based on previous best\n",
    "\n",
    "# Updated hyperparameter grid\n",
    "param_grid = {\n",
    "    'criterion': criterion_range,\n",
    "    'splitter': splitter_range,\n",
    "    'max_depth': depth_range,\n",
    "    'min_samples_leaf': leaf_range\n",
    "}\n",
    "\n",
    "# Adjusting the n_iter for RandomizedSearchCV could potentially improve results\n",
    "# Consider increasing n_iter if computational resources permit\n",
    "\n",
    "              #'NAME OF HYPERPARAMETER' : HYPERPARAMETER_RANGE,\n",
    "              #'NAME OF HYPERPARAMETER' : HYPERPARAMETER_RANGE,\n",
    "              #'NAME OF HYPERPARAMETER' : HYPERPARAMETER_RANGE}\n",
    "\n",
    "\n",
    "# INSTANTIATING the model object without hyperparameters\n",
    "tuned_tree = DecisionTreeRegressor(random_state = 219)\n",
    "\n",
    "\n",
    "# RandomizedSearchCV object\n",
    "tuned_tree_cv = RandomizedSearchCV(estimator             = tuned_tree,\n",
    "                                   param_distributions   = param_grid, #hyper parameter range\n",
    "                                   cv                    = 5,          #non of folds\n",
    "                                   n_iter                = 432,        #how many models to build\n",
    "                                   random_state          = 702)\n",
    "\n",
    "\n",
    "# FITTING to the FULL DATASET (due to cross-validation)\n",
    "tuned_tree_cv.fit(x_data, y_data)\n",
    "\n",
    "\n",
    "# printing the optimal parameters and best score\n",
    "print(\"Tuned Parameters  :\", tuned_tree_cv.best_params_)\n",
    "print(\"Tuned Training AUC:\", tuned_tree_cv.best_score_.round(5))"
   ]
  },
  {
   "cell_type": "code",
   "execution_count": 109,
   "id": "2118d03a",
   "metadata": {
    "scrolled": false
   },
   "outputs": [
    {
     "name": "stdout",
     "output_type": "stream",
     "text": [
      "Training Score : 0.4021\n",
      "Testing Score  : 0.2936\n",
      "Train-Test Gap : 0.1085\n"
     ]
    }
   ],
   "source": [
    "# naming the model\n",
    "model_name ='Tuned Tree'\n",
    "\n",
    "\n",
    "# INSTANTIATING a logistic regression model with tuned values\n",
    "model = DecisionTreeRegressor (splitter       = 'best',\n",
    "                            min_samples_leaf  =  18,\n",
    "                             max_depth        =  8, \n",
    "                             criterion        = 'squared_error',\n",
    "                             random_state     = 702)\n",
    "\n",
    "\n",
    "# FITTING to the TRAINING data\n",
    "model.fit(x_train, y_train)\n",
    "\n",
    "\n",
    "# PREDICTING based on the testing set\n",
    "model.predict(x_test)\n",
    "\n",
    "\n",
    "# SCORING results\n",
    "model_train_score = model.score(x_train, y_train).round(4)\n",
    "model_test_score  = model.score(x_test, y_test).round(4)\n",
    "model_gap         = abs(model_train_score - model_test_score).round(4)\n",
    "\n",
    "\n",
    "# displaying results\n",
    "print('Training Score :', model_train_score)\n",
    "print('Testing Score  :', model_test_score)\n",
    "print('Train-Test Gap :', model_gap)          "
   ]
  },
  {
   "cell_type": "markdown",
   "id": "0f722081",
   "metadata": {},
   "source": [
    "Preparing Submission File for Kaggle"
   ]
  },
  {
   "cell_type": "code",
   "execution_count": 114,
   "id": "ddf7f9bc",
   "metadata": {},
   "outputs": [],
   "source": [
    "# x-data\n",
    "x_data_kaggle = kaggle_data[x_features].copy()\n",
    "\n",
    "\n",
    "# y-data\n",
    "y_data_kaggle = kaggle_data[y_variable]\n",
    "\n",
    "\n",
    "# Fitting model from above to the Kaggle test data\n",
    "kaggle_predictions = model.predict(x_data_kaggle)"
   ]
  },
  {
   "cell_type": "code",
   "execution_count": null,
   "id": "a7020cb5",
   "metadata": {},
   "outputs": [],
   "source": [
    "# Creating the Kaggle file "
   ]
  },
  {
   "cell_type": "code",
   "execution_count": 115,
   "id": "503c1b78",
   "metadata": {},
   "outputs": [],
   "source": [
    "## Kaggle Submission File ##\n",
    "\n",
    "# organizing predictions\n",
    "model_predictions = {\"RENTALS\" : kaggle_predictions}\n",
    "\n",
    "\n",
    "# converting predictions into df\n",
    "model_pred_df = pd.DataFrame(data  = model_predictions,\n",
    "                             index = df_test.index)"
   ]
  },
  {
   "cell_type": "code",
   "execution_count": 120,
   "id": "db1cd524",
   "metadata": {},
   "outputs": [],
   "source": [
    "# Saving the DataFrame to a CSV file in the current working directory\n",
    "model_pred_df.to_csv(path_or_buf=\"rental_bikes_prediction_final.csv\", index=False)"
   ]
  },
  {
   "cell_type": "code",
   "execution_count": null,
   "id": "97708670",
   "metadata": {},
   "outputs": [],
   "source": []
  }
 ],
 "metadata": {
  "kernelspec": {
   "display_name": "Python 3 (ipykernel)",
   "language": "python",
   "name": "python3"
  },
  "language_info": {
   "codemirror_mode": {
    "name": "ipython",
    "version": 3
   },
   "file_extension": ".py",
   "mimetype": "text/x-python",
   "name": "python",
   "nbconvert_exporter": "python",
   "pygments_lexer": "ipython3",
   "version": "3.11.5"
  },
  "toc": {
   "base_numbering": 1,
   "nav_menu": {},
   "number_sections": true,
   "sideBar": true,
   "skip_h1_title": false,
   "title_cell": "Table of Contents",
   "title_sidebar": "Contents",
   "toc_cell": false,
   "toc_position": {},
   "toc_section_display": true,
   "toc_window_display": false
  },
  "varInspector": {
   "cols": {
    "lenName": 16,
    "lenType": 16,
    "lenVar": 40
   },
   "kernels_config": {
    "python": {
     "delete_cmd_postfix": "",
     "delete_cmd_prefix": "del ",
     "library": "var_list.py",
     "varRefreshCmd": "print(var_dic_list())"
    },
    "r": {
     "delete_cmd_postfix": ") ",
     "delete_cmd_prefix": "rm(",
     "library": "var_list.r",
     "varRefreshCmd": "cat(var_dic_list()) "
    }
   },
   "types_to_exclude": [
    "module",
    "function",
    "builtin_function_or_method",
    "instance",
    "_Feature"
   ],
   "window_display": false
  }
 },
 "nbformat": 4,
 "nbformat_minor": 5
}
